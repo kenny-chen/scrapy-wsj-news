{
 "cells": [
  {
   "cell_type": "code",
   "execution_count": 71,
   "id": "cooperative-bolivia",
   "metadata": {},
   "outputs": [],
   "source": [
    "import sys\n",
    "import os\n",
    "from pathlib import Path\n",
    "#\n",
    "path_root = Path(os.path.abspath(''))\n",
    "sys.path.insert(1, os.path.join(path_root))\n",
    "#\n",
    "path_root2 = Path(os.path.abspath('')).parent\n",
    "sys.path.insert(1, os.path.join(path_root2))\n",
    "import talib\n",
    "import sqlite3 as sqlite3\n",
    "import datetime\n",
    "import pandas as pd\n",
    "import numpy as np\n",
    "import matplotlib.pyplot as plt\n",
    "import mplfinance as mpf\n",
    "import matplotlib.font_manager as fm\n",
    "from mplfinance.original_flavor import candlestick_ohlc\n",
    "from util.util import get_ucodes"
   ]
  },
  {
   "cell_type": "code",
   "execution_count": 72,
   "id": "ambient-wealth",
   "metadata": {},
   "outputs": [
    {
     "name": "stdout",
     "output_type": "stream",
     "text": [
      "D:\\PycharmProjects\\scrapy-001\\data\\aastock\\sqlite\\hk-marketwatch.db\n"
     ]
    }
   ],
   "source": [
    "path_sqlite = os.path.join(path_root, 'data', 'aastock', 'sqlite', 'hk-marketwatch.db')\n",
    "if not os.path.exists(path_sqlite):\n",
    "    path_sqlite = os.path.join(path_root2, 'data', 'aastock', 'sqlite', 'hk-marketwatch.db')\n",
    "print(path_sqlite)\n",
    "conn = sqlite3.connect(path_sqlite)\n",
    "cursor = conn.cursor()\n",
    "conn.row_factory = lambda cursor, row: row[0]\n",
    "no_days = 60"
   ]
  },
  {
   "cell_type": "code",
   "execution_count": 73,
   "id": "occupied-seattle",
   "metadata": {},
   "outputs": [],
   "source": [
    "data1 = {}\n",
    "no_days = 50\n",
    "ucodes = ['hsi', 'hsce', 'hstech', 'ssec', 'csi300', 'sp500', 'dji', 'ixic']\n",
    "for ucode in ucodes:\n",
    "    sql = \"\"\"SELECT t.code, t.lot, t.nmll, t.stime, t.high, t.low, t.open, t.close, t.volume\n",
    "                FROM (SELECT n.code, n.lot, n.nmll, c.stime, c.high, c.low, c.open, c.close, c.volume \n",
    "                    FROM s_{} AS c INNER JOIN name AS n \n",
    "                        ON c.code=n.code ORDER BY c.stime DESC LIMIT {}) AS t \n",
    "                            ORDER BY t.stime \"\"\".format(ucode, no_days)\n",
    "    cursor.execute(sql)\n",
    "    columns = ['code', 'lot', 'nmll', 'sdate', 'high', 'low', 'open', 'last', 'vol']\n",
    "    data1[ucode] = pd.DataFrame(cursor.fetchall(), columns=columns)\n",
    "    data1[ucode].index = pd.to_datetime(data1[ucode].sdate)\n",
    "    data1[ucode]['weekday'] = data1[ucode].index.dayofweek\n",
    "    data1[ucode]['pchng'] = data1[ucode]['last'].pct_change()*100\n",
    "conn.close()"
   ]
  },
  {
   "cell_type": "code",
   "execution_count": 74,
   "id": "historic-thailand",
   "metadata": {},
   "outputs": [
    {
     "name": "stdout",
     "output_type": "stream",
     "text": [
      "hsi 0 0.8823416355704605\n",
      "hsi 1 1.9281502723071053\n",
      "hsi 2 -0.5506325167501047\n",
      "hsi 3 0.710934823131903\n",
      "hsi 4 -7.392260805866535\n",
      "hsce 0 -0.47040089305587784\n",
      "hsce 1 0.41170332598552406\n",
      "hsce 2 -0.3700704533275867\n",
      "hsce 3 -0.3776475250366622\n",
      "hsce 4 -7.1170144084869555\n",
      "hstech 0 -10.124935179847151\n",
      "hstech 1 6.041077706101261\n",
      "hstech 2 -1.1386640766179124\n",
      "hstech 3 -2.4438923491845177\n",
      "hstech 4 -5.271143919707965\n",
      "ssec 0 -0.8395129613748109\n",
      "ssec 1 -0.7395933413590683\n",
      "ssec 2 -0.9788609426828465\n",
      "ssec 3 2.2056325976594127\n",
      "ssec 4 -1.7341336990994827\n",
      "csi300 0 -4.574752621935085\n",
      "csi300 1 -1.0907404750717609\n",
      "csi300 2 -0.933001752239615\n",
      "csi300 3 1.2076133583463493\n",
      "csi300 4 -2.9219719423539403\n",
      "sp500 0 6.1237012574514855\n",
      "sp500 1 0.621370472210514\n",
      "sp500 2 0.7168793930374839\n",
      "sp500 3 -1.2875112699712647\n",
      "sp500 4 1.9231725801122312\n",
      "dji 0 5.284311048450729\n",
      "dji 1 -2.0707415582515987\n",
      "dji 2 3.258742107480417\n",
      "dji 3 -1.8319455223195114\n",
      "dji 4 2.0248670777788913\n",
      "ixic 0 3.2629713811976324\n",
      "ixic 1 5.835979007715597\n",
      "ixic 2 -4.105737656693564\n",
      "ixic 3 9.720608986746626\n",
      "ixic 4 -6.38895071758705\n"
     ]
    }
   ],
   "source": [
    "for ucode, df in data1.items():\n",
    "    for i in range(5):\n",
    "        print(ucode, i, df.loc[(df.weekday == i)]['pchng'].sum())"
   ]
  },
  {
   "cell_type": "code",
   "execution_count": null,
   "id": "indoor-watershed",
   "metadata": {},
   "outputs": [],
   "source": []
  },
  {
   "cell_type": "code",
   "execution_count": null,
   "id": "ongoing-calvin",
   "metadata": {},
   "outputs": [],
   "source": []
  }
 ],
 "metadata": {
  "kernelspec": {
   "display_name": "Python 3",
   "language": "python",
   "name": "python3"
  },
  "language_info": {
   "codemirror_mode": {
    "name": "ipython",
    "version": 3
   },
   "file_extension": ".py",
   "mimetype": "text/x-python",
   "name": "python",
   "nbconvert_exporter": "python",
   "pygments_lexer": "ipython3",
   "version": "3.7.4"
  }
 },
 "nbformat": 4,
 "nbformat_minor": 5
}
